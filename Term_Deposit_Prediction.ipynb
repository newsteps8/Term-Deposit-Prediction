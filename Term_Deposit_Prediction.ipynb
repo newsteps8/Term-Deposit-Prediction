{
  "nbformat": 4,
  "nbformat_minor": 0,
  "metadata": {
    "colab": {
      "name": "Term-Deposit-Prediction.ipynb",
      "provenance": [],
      "collapsed_sections": []
    },
    "kernelspec": {
      "name": "python3",
      "display_name": "Python 3"
    }
  },
  "cells": [
    {
      "cell_type": "markdown",
      "metadata": {
        "id": "jHmcqiePR4HE",
        "colab_type": "text"
      },
      "source": [
        "**Büşra** **GÖKMEN**"
      ]
    },
    {
      "cell_type": "code",
      "metadata": {
        "id": "MCTrrVIxJ4s_",
        "colab_type": "code",
        "colab": {
          "base_uri": "https://localhost:8080/",
          "height": 198
        },
        "outputId": "385aa606-69be-4dea-e510-e55783009961"
      },
      "source": [
        "import pandas as pd\n",
        "from plotly import tools\n",
        "import plotly.figure_factory as ff\n",
        "import plotly.graph_objs as go\n",
        "from plotly.offline import download_plotlyjs, init_notebook_mode, plot, iplot\n",
        "init_notebook_mode(connected=True)\n",
        "\n",
        "# read data and create dataframe\n",
        "df = pd.read_csv('/content/drive/My Drive/term-deposit-marketing-2020.csv')\n",
        "term_deposits = df.copy()\n",
        "df.head()"
      ],
      "execution_count": null,
      "outputs": [
        {
          "output_type": "display_data",
          "data": {
            "text/html": [
              "        <script type=\"text/javascript\">\n",
              "        window.PlotlyConfig = {MathJaxConfig: 'local'};\n",
              "        if (window.MathJax) {MathJax.Hub.Config({SVG: {font: \"STIX-Web\"}});}\n",
              "        if (typeof require !== 'undefined') {\n",
              "        require.undef(\"plotly\");\n",
              "        requirejs.config({\n",
              "            paths: {\n",
              "                'plotly': ['https://cdn.plot.ly/plotly-latest.min']\n",
              "            }\n",
              "        });\n",
              "        require(['plotly'], function(Plotly) {\n",
              "            window._Plotly = Plotly;\n",
              "        });\n",
              "        }\n",
              "        </script>\n",
              "        "
            ]
          },
          "metadata": {
            "tags": []
          }
        },
        {
          "output_type": "execute_result",
          "data": {
            "text/html": [
              "<div>\n",
              "<style scoped>\n",
              "    .dataframe tbody tr th:only-of-type {\n",
              "        vertical-align: middle;\n",
              "    }\n",
              "\n",
              "    .dataframe tbody tr th {\n",
              "        vertical-align: top;\n",
              "    }\n",
              "\n",
              "    .dataframe thead th {\n",
              "        text-align: right;\n",
              "    }\n",
              "</style>\n",
              "<table border=\"1\" class=\"dataframe\">\n",
              "  <thead>\n",
              "    <tr style=\"text-align: right;\">\n",
              "      <th></th>\n",
              "      <th>age</th>\n",
              "      <th>job</th>\n",
              "      <th>marital</th>\n",
              "      <th>education</th>\n",
              "      <th>default</th>\n",
              "      <th>balance</th>\n",
              "      <th>housing</th>\n",
              "      <th>loan</th>\n",
              "      <th>contact</th>\n",
              "      <th>day</th>\n",
              "      <th>month</th>\n",
              "      <th>duration</th>\n",
              "      <th>campaign</th>\n",
              "      <th>y</th>\n",
              "    </tr>\n",
              "  </thead>\n",
              "  <tbody>\n",
              "    <tr>\n",
              "      <th>0</th>\n",
              "      <td>58</td>\n",
              "      <td>management</td>\n",
              "      <td>married</td>\n",
              "      <td>tertiary</td>\n",
              "      <td>no</td>\n",
              "      <td>2143</td>\n",
              "      <td>yes</td>\n",
              "      <td>no</td>\n",
              "      <td>unknown</td>\n",
              "      <td>5</td>\n",
              "      <td>may</td>\n",
              "      <td>261</td>\n",
              "      <td>1</td>\n",
              "      <td>no</td>\n",
              "    </tr>\n",
              "    <tr>\n",
              "      <th>1</th>\n",
              "      <td>44</td>\n",
              "      <td>technician</td>\n",
              "      <td>single</td>\n",
              "      <td>secondary</td>\n",
              "      <td>no</td>\n",
              "      <td>29</td>\n",
              "      <td>yes</td>\n",
              "      <td>no</td>\n",
              "      <td>unknown</td>\n",
              "      <td>5</td>\n",
              "      <td>may</td>\n",
              "      <td>151</td>\n",
              "      <td>1</td>\n",
              "      <td>no</td>\n",
              "    </tr>\n",
              "    <tr>\n",
              "      <th>2</th>\n",
              "      <td>33</td>\n",
              "      <td>entrepreneur</td>\n",
              "      <td>married</td>\n",
              "      <td>secondary</td>\n",
              "      <td>no</td>\n",
              "      <td>2</td>\n",
              "      <td>yes</td>\n",
              "      <td>yes</td>\n",
              "      <td>unknown</td>\n",
              "      <td>5</td>\n",
              "      <td>may</td>\n",
              "      <td>76</td>\n",
              "      <td>1</td>\n",
              "      <td>no</td>\n",
              "    </tr>\n",
              "    <tr>\n",
              "      <th>3</th>\n",
              "      <td>47</td>\n",
              "      <td>blue-collar</td>\n",
              "      <td>married</td>\n",
              "      <td>unknown</td>\n",
              "      <td>no</td>\n",
              "      <td>1506</td>\n",
              "      <td>yes</td>\n",
              "      <td>no</td>\n",
              "      <td>unknown</td>\n",
              "      <td>5</td>\n",
              "      <td>may</td>\n",
              "      <td>92</td>\n",
              "      <td>1</td>\n",
              "      <td>no</td>\n",
              "    </tr>\n",
              "    <tr>\n",
              "      <th>4</th>\n",
              "      <td>33</td>\n",
              "      <td>unknown</td>\n",
              "      <td>single</td>\n",
              "      <td>unknown</td>\n",
              "      <td>no</td>\n",
              "      <td>1</td>\n",
              "      <td>no</td>\n",
              "      <td>no</td>\n",
              "      <td>unknown</td>\n",
              "      <td>5</td>\n",
              "      <td>may</td>\n",
              "      <td>198</td>\n",
              "      <td>1</td>\n",
              "      <td>no</td>\n",
              "    </tr>\n",
              "  </tbody>\n",
              "</table>\n",
              "</div>"
            ],
            "text/plain": [
              "   age           job  marital  education  ... month  duration campaign   y\n",
              "0   58    management  married   tertiary  ...   may       261        1  no\n",
              "1   44    technician   single  secondary  ...   may       151        1  no\n",
              "2   33  entrepreneur  married  secondary  ...   may        76        1  no\n",
              "3   47   blue-collar  married    unknown  ...   may        92        1  no\n",
              "4   33       unknown   single    unknown  ...   may       198        1  no\n",
              "\n",
              "[5 rows x 14 columns]"
            ]
          },
          "metadata": {
            "tags": []
          },
          "execution_count": 114
        }
      ]
    },
    {
      "cell_type": "code",
      "metadata": {
        "id": "5a5kGyOoTi17",
        "colab_type": "code",
        "colab": {
          "base_uri": "https://localhost:8080/",
          "height": 198
        },
        "outputId": "8512c511-0146-4d13-d815-12459f344113"
      },
      "source": [
        "dep = term_deposits['y']\n",
        "term_deposits.drop(labels=['y'], axis=1,inplace=True)\n",
        "term_deposits.insert(0, 'y', dep)\n",
        "term_deposits.head()"
      ],
      "execution_count": null,
      "outputs": [
        {
          "output_type": "execute_result",
          "data": {
            "text/html": [
              "<div>\n",
              "<style scoped>\n",
              "    .dataframe tbody tr th:only-of-type {\n",
              "        vertical-align: middle;\n",
              "    }\n",
              "\n",
              "    .dataframe tbody tr th {\n",
              "        vertical-align: top;\n",
              "    }\n",
              "\n",
              "    .dataframe thead th {\n",
              "        text-align: right;\n",
              "    }\n",
              "</style>\n",
              "<table border=\"1\" class=\"dataframe\">\n",
              "  <thead>\n",
              "    <tr style=\"text-align: right;\">\n",
              "      <th></th>\n",
              "      <th>y</th>\n",
              "      <th>age</th>\n",
              "      <th>job</th>\n",
              "      <th>marital</th>\n",
              "      <th>education</th>\n",
              "      <th>default</th>\n",
              "      <th>balance</th>\n",
              "      <th>housing</th>\n",
              "      <th>loan</th>\n",
              "      <th>contact</th>\n",
              "      <th>day</th>\n",
              "      <th>month</th>\n",
              "      <th>duration</th>\n",
              "      <th>campaign</th>\n",
              "    </tr>\n",
              "  </thead>\n",
              "  <tbody>\n",
              "    <tr>\n",
              "      <th>0</th>\n",
              "      <td>no</td>\n",
              "      <td>58</td>\n",
              "      <td>management</td>\n",
              "      <td>married</td>\n",
              "      <td>tertiary</td>\n",
              "      <td>no</td>\n",
              "      <td>2143</td>\n",
              "      <td>yes</td>\n",
              "      <td>no</td>\n",
              "      <td>unknown</td>\n",
              "      <td>5</td>\n",
              "      <td>may</td>\n",
              "      <td>261</td>\n",
              "      <td>1</td>\n",
              "    </tr>\n",
              "    <tr>\n",
              "      <th>1</th>\n",
              "      <td>no</td>\n",
              "      <td>44</td>\n",
              "      <td>technician</td>\n",
              "      <td>single</td>\n",
              "      <td>secondary</td>\n",
              "      <td>no</td>\n",
              "      <td>29</td>\n",
              "      <td>yes</td>\n",
              "      <td>no</td>\n",
              "      <td>unknown</td>\n",
              "      <td>5</td>\n",
              "      <td>may</td>\n",
              "      <td>151</td>\n",
              "      <td>1</td>\n",
              "    </tr>\n",
              "    <tr>\n",
              "      <th>2</th>\n",
              "      <td>no</td>\n",
              "      <td>33</td>\n",
              "      <td>entrepreneur</td>\n",
              "      <td>married</td>\n",
              "      <td>secondary</td>\n",
              "      <td>no</td>\n",
              "      <td>2</td>\n",
              "      <td>yes</td>\n",
              "      <td>yes</td>\n",
              "      <td>unknown</td>\n",
              "      <td>5</td>\n",
              "      <td>may</td>\n",
              "      <td>76</td>\n",
              "      <td>1</td>\n",
              "    </tr>\n",
              "    <tr>\n",
              "      <th>3</th>\n",
              "      <td>no</td>\n",
              "      <td>47</td>\n",
              "      <td>blue-collar</td>\n",
              "      <td>married</td>\n",
              "      <td>unknown</td>\n",
              "      <td>no</td>\n",
              "      <td>1506</td>\n",
              "      <td>yes</td>\n",
              "      <td>no</td>\n",
              "      <td>unknown</td>\n",
              "      <td>5</td>\n",
              "      <td>may</td>\n",
              "      <td>92</td>\n",
              "      <td>1</td>\n",
              "    </tr>\n",
              "    <tr>\n",
              "      <th>4</th>\n",
              "      <td>no</td>\n",
              "      <td>33</td>\n",
              "      <td>unknown</td>\n",
              "      <td>single</td>\n",
              "      <td>unknown</td>\n",
              "      <td>no</td>\n",
              "      <td>1</td>\n",
              "      <td>no</td>\n",
              "      <td>no</td>\n",
              "      <td>unknown</td>\n",
              "      <td>5</td>\n",
              "      <td>may</td>\n",
              "      <td>198</td>\n",
              "      <td>1</td>\n",
              "    </tr>\n",
              "  </tbody>\n",
              "</table>\n",
              "</div>"
            ],
            "text/plain": [
              "    y  age           job  marital  ... day month  duration campaign\n",
              "0  no   58    management  married  ...   5   may       261        1\n",
              "1  no   44    technician   single  ...   5   may       151        1\n",
              "2  no   33  entrepreneur  married  ...   5   may        76        1\n",
              "3  no   47   blue-collar  married  ...   5   may        92        1\n",
              "4  no   33       unknown   single  ...   5   may       198        1\n",
              "\n",
              "[5 rows x 14 columns]"
            ]
          },
          "metadata": {
            "tags": []
          },
          "execution_count": 115
        }
      ]
    },
    {
      "cell_type": "code",
      "metadata": {
        "id": "CXDCmG-TTipK",
        "colab_type": "code",
        "colab": {}
      },
      "source": [
        "# Here we split the data into training and test sets and implement a stratified shuffle split\n",
        "from sklearn.model_selection import StratifiedShuffleSplit\n",
        "stratified = StratifiedShuffleSplit(n_splits=1, test_size=0.2, random_state=42)\n",
        "\n",
        "for train_set, test_set in stratified.split(term_deposits, term_deposits[\"loan\"]):\n",
        "    stratified_train = term_deposits.loc[train_set]\n",
        "    stratified_test = term_deposits.loc[test_set]"
      ],
      "execution_count": null,
      "outputs": []
    },
    {
      "cell_type": "code",
      "metadata": {
        "id": "DxQuVVcvTiZ4",
        "colab_type": "code",
        "colab": {
          "base_uri": "https://localhost:8080/",
          "height": 72
        },
        "outputId": "1612ecfb-9f92-463f-bd42-09a2ec43282c"
      },
      "source": [
        "# test and train data\n",
        "train_data = stratified_train # Make a copy of the stratified training set.\n",
        "test_data = stratified_test # Make a copy of the stratified testing set.\n",
        "train_data['y'].value_counts()"
      ],
      "execution_count": null,
      "outputs": [
        {
          "output_type": "execute_result",
          "data": {
            "text/plain": [
              "no     29702\n",
              "yes     2298\n",
              "Name: y, dtype: int64"
            ]
          },
          "metadata": {
            "tags": []
          },
          "execution_count": 117
        }
      ]
    },
    {
      "cell_type": "code",
      "metadata": {
        "id": "gh54aspiGLvc",
        "colab_type": "code",
        "colab": {
          "base_uri": "https://localhost:8080/",
          "height": 72
        },
        "outputId": "9159b68e-b2fa-4bff-9c70-fd039369c143"
      },
      "source": [
        "test_data['y'].value_counts()"
      ],
      "execution_count": 134,
      "outputs": [
        {
          "output_type": "execute_result",
          "data": {
            "text/plain": [
              "no     7402\n",
              "yes     598\n",
              "Name: y, dtype: int64"
            ]
          },
          "metadata": {
            "tags": []
          },
          "execution_count": 134
        }
      ]
    },
    {
      "cell_type": "code",
      "metadata": {
        "id": "uy2uX5VZivcc",
        "colab_type": "code",
        "colab": {}
      },
      "source": [
        "from sklearn.base import BaseEstimator, TransformerMixin\n",
        "from sklearn.utils import check_array\n",
        "from sklearn.preprocessing import LabelEncoder\n",
        "from scipy import sparse\n",
        "import numpy as np\n",
        "\n",
        "# function for encoding of categorical data\n",
        "class CategoricalEncoder(BaseEstimator, TransformerMixin):\n",
        "   \n",
        "    \n",
        "\n",
        "    def __init__(self, encoding='onehot', categories='auto', dtype=np.float64,\n",
        "                 handle_unknown='error'):\n",
        "        self.encoding = encoding\n",
        "        self.categories = categories\n",
        "        self.dtype = dtype\n",
        "        self.handle_unknown = handle_unknown\n",
        "\n",
        "    def fit(self, X, y=None):\n",
        "        \"\"\"Fit the CategoricalEncoder to X.\n",
        "        Parameters\n",
        "        ----------\n",
        "        X : array-like, shape [n_samples, n_feature]\n",
        "            The data to determine the categories of each feature.\n",
        "        Returns\n",
        "        -------\n",
        "        self\n",
        "        \"\"\"\n",
        "\n",
        "        if self.encoding not in ['onehot', 'onehot-dense', 'ordinal']:\n",
        "            template = (\"encoding should be either 'onehot', 'onehot-dense' \"\n",
        "                        \"or 'ordinal', got %s\")\n",
        "            raise ValueError(template % self.handle_unknown)\n",
        "\n",
        "        if self.handle_unknown not in ['error', 'ignore']:\n",
        "            template = (\"handle_unknown should be either 'error' or \"\n",
        "                        \"'ignore', got %s\")\n",
        "            raise ValueError(template % self.handle_unknown)\n",
        "\n",
        "        if self.encoding == 'ordinal' and self.handle_unknown == 'ignore':\n",
        "            raise ValueError(\"handle_unknown='ignore' is not supported for\"\n",
        "                             \" encoding='ordinal'\")\n",
        "\n",
        "        X = check_array(X, dtype=np.object, accept_sparse='csc', copy=True)\n",
        "        n_samples, n_features = X.shape\n",
        "\n",
        "        self._label_encoders_ = [LabelEncoder() for _ in range(n_features)]\n",
        "\n",
        "        for i in range(n_features):\n",
        "            le = self._label_encoders_[i]\n",
        "            Xi = X[:, i]\n",
        "            if self.categories == 'auto':\n",
        "                le.fit(Xi)\n",
        "            else:\n",
        "                valid_mask = np.in1d(Xi, self.categories[i])\n",
        "                if not np.all(valid_mask):\n",
        "                    if self.handle_unknown == 'error':\n",
        "                        diff = np.unique(Xi[~valid_mask])\n",
        "                        msg = (\"Found unknown categories {0} in column {1}\"\n",
        "                               \" during fit\".format(diff, i))\n",
        "                        raise ValueError(msg)\n",
        "                le.classes_ = np.array(np.sort(self.categories[i]))\n",
        "\n",
        "        self.categories_ = [le.classes_ for le in self._label_encoders_]\n",
        "\n",
        "        return self\n",
        "\n",
        "    def transform(self, X):\n",
        "        \"\"\"Transform X using one-hot encoding.\n",
        "        Parameters\n",
        "        ----------\n",
        "        X : array-like, shape [n_samples, n_features]\n",
        "            The data to encode.\n",
        "        Returns\n",
        "        -------\n",
        "        X_out : sparse matrix or a 2-d array\n",
        "            Transformed input.\n",
        "        \"\"\"\n",
        "        X = check_array(X, accept_sparse='csc', dtype=np.object, copy=True)\n",
        "        n_samples, n_features = X.shape\n",
        "        X_int = np.zeros_like(X, dtype=np.int)\n",
        "        X_mask = np.ones_like(X, dtype=np.bool)\n",
        "\n",
        "        for i in range(n_features):\n",
        "            valid_mask = np.in1d(X[:, i], self.categories_[i])\n",
        "\n",
        "            if not np.all(valid_mask):\n",
        "                if self.handle_unknown == 'error':\n",
        "                    diff = np.unique(X[~valid_mask, i])\n",
        "                    msg = (\"Found unknown categories {0} in column {1}\"\n",
        "                           \" during transform\".format(diff, i))\n",
        "                    raise ValueError(msg)\n",
        "                else:\n",
        "                    # Set the problematic rows to an acceptable value and\n",
        "                    # continue `The rows are marked `X_mask` and will be\n",
        "                    # removed later.\n",
        "                    X_mask[:, i] = valid_mask\n",
        "                    X[:, i][~valid_mask] = self.categories_[i][0]\n",
        "            X_int[:, i] = self._label_encoders_[i].transform(X[:, i])\n",
        "\n",
        "        if self.encoding == 'ordinal':\n",
        "            return X_int.astype(self.dtype, copy=False)\n",
        "\n",
        "        mask = X_mask.ravel()\n",
        "        n_values = [cats.shape[0] for cats in self.categories_]\n",
        "        n_values = np.array([0] + n_values)\n",
        "        indices = np.cumsum(n_values)\n",
        "\n",
        "        column_indices = (X_int + indices[:-1]).ravel()[mask]\n",
        "        row_indices = np.repeat(np.arange(n_samples, dtype=np.int32),\n",
        "                                n_features)[mask]\n",
        "        data = np.ones(n_samples * n_features)[mask]\n",
        "\n",
        "        out = sparse.csc_matrix((data, (row_indices, column_indices)),\n",
        "                                shape=(n_samples, indices[-1]),\n",
        "                                dtype=self.dtype).tocsr()\n",
        "        if self.encoding == 'onehot-dense':\n",
        "            return out.toarray()\n",
        "        else:\n",
        "            return out\n"
      ],
      "execution_count": null,
      "outputs": []
    },
    {
      "cell_type": "code",
      "metadata": {
        "id": "aABuuXb7jN_j",
        "colab_type": "code",
        "colab": {}
      },
      "source": [
        "from sklearn.base import BaseEstimator, TransformerMixin\n",
        "\n",
        "# A class to select numerical or categorical columns \n",
        "# since Scikit-Learn doesn't handle DataFrames yet\n",
        "class DataFrameSelector(BaseEstimator, TransformerMixin):\n",
        "    def __init__(self, attribute_names):\n",
        "        self.attribute_names = attribute_names\n",
        "    def fit(self, X, y=None):\n",
        "        return self\n",
        "    def transform(self, X):\n",
        "        return X[self.attribute_names]"
      ],
      "execution_count": null,
      "outputs": []
    },
    {
      "cell_type": "code",
      "metadata": {
        "id": "pl12aE5kj6Ng",
        "colab_type": "code",
        "colab": {}
      },
      "source": [
        "from sklearn.pipeline import Pipeline\n",
        "from sklearn.preprocessing import StandardScaler\n",
        "\n",
        "# Making pipelines for transforming data\n",
        "numerical_pipeline = Pipeline([\n",
        "    (\"select_numeric\", DataFrameSelector([\"age\", \"balance\", \"day\", \"campaign\",\"duration\"])),\n",
        "    (\"std_scaler\", StandardScaler()),\n",
        "])\n",
        "\n",
        "categorical_pipeline = Pipeline([\n",
        "    (\"select_cat\", DataFrameSelector([\"job\", \"education\", \"marital\", \"default\", \"housing\", \"loan\", \"contact\", \"month\"\n",
        "                                     ])),\n",
        "    (\"cat_encoder\", CategoricalEncoder(encoding='onehot-dense'))\n",
        "])\n",
        "\n",
        "from sklearn.pipeline import FeatureUnion\n",
        "preprocess_pipeline = FeatureUnion(transformer_list=[\n",
        "        (\"numerical_pipeline\", numerical_pipeline),\n",
        "        (\"categorical_pipeline\", categorical_pipeline),\n",
        "    ])"
      ],
      "execution_count": null,
      "outputs": []
    },
    {
      "cell_type": "code",
      "metadata": {
        "id": "1V4OLc-Xj6DK",
        "colab_type": "code",
        "colab": {
          "base_uri": "https://localhost:8080/",
          "height": 254
        },
        "outputId": "7ac13c95-d557-4559-e82d-6d56c20c95f6"
      },
      "source": [
        "X_train = preprocess_pipeline.fit_transform(train_data)\n",
        "X_train\n",
        "X_test = preprocess_pipeline.fit_transform(test_data)\n",
        "X_test"
      ],
      "execution_count": null,
      "outputs": [
        {
          "output_type": "execute_result",
          "data": {
            "text/plain": [
              "array([[-1.19230359, -0.41294643,  0.95536651, ...,  0.        ,\n",
              "         0.        ,  0.        ],\n",
              "       [-1.08824271,  2.34166124,  0.2321747 , ...,  0.        ,\n",
              "         0.        ,  0.        ],\n",
              "       [-0.88012094, -0.37841983,  0.35270667, ...,  1.        ,\n",
              "         0.        ,  0.        ],\n",
              "       ...,\n",
              "       [ 0.99297497,  0.57123271,  1.55802635, ...,  0.        ,\n",
              "         0.        ,  0.        ],\n",
              "       [ 0.36860967, -0.32098944,  0.11164274, ...,  0.        ,\n",
              "         1.        ,  0.        ],\n",
              "       [ 0.26454878, -0.36440408, -0.85261301, ...,  0.        ,\n",
              "         0.        ,  0.        ]])"
            ]
          },
          "metadata": {
            "tags": []
          },
          "execution_count": 121
        }
      ]
    },
    {
      "cell_type": "code",
      "metadata": {
        "id": "7yxBvceKkZK0",
        "colab_type": "code",
        "colab": {
          "base_uri": "https://localhost:8080/",
          "height": 35
        },
        "outputId": "24556174-3475-4f8c-b6b7-2565bbc16ada"
      },
      "source": [
        "y_train = train_data['y']\n",
        "y_test = test_data['y']\n",
        "y_train.shape"
      ],
      "execution_count": null,
      "outputs": [
        {
          "output_type": "execute_result",
          "data": {
            "text/plain": [
              "(32000,)"
            ]
          },
          "metadata": {
            "tags": []
          },
          "execution_count": 122
        }
      ]
    },
    {
      "cell_type": "code",
      "metadata": {
        "id": "nkAXBzFgk-B1",
        "colab_type": "code",
        "colab": {}
      },
      "source": [
        "from sklearn.preprocessing import LabelEncoder\n",
        "#encoding label\n",
        "\n",
        "encode = LabelEncoder()\n",
        "y_train = encode.fit_transform(y_train)\n",
        "y_test = encode.fit_transform(y_test)\n"
      ],
      "execution_count": null,
      "outputs": []
    },
    {
      "cell_type": "code",
      "metadata": {
        "id": "IFatgiGQk94q",
        "colab_type": "code",
        "colab": {}
      },
      "source": [
        "import time\n",
        "\n",
        "\n",
        "from sklearn.decomposition import PCA\n",
        "from sklearn.preprocessing import StandardScaler, LabelEncoder\n",
        " # models\n",
        "from sklearn.linear_model import LogisticRegression\n",
        "from sklearn.svm import SVC\n",
        "from sklearn.neighbors import KNeighborsClassifier\n",
        "from sklearn import tree\n",
        "from sklearn.neural_network import MLPClassifier\n",
        "from sklearn.neighbors import KNeighborsClassifier\n",
        "from sklearn.ensemble import GradientBoostingClassifier\n",
        "from sklearn.gaussian_process.kernels import RBF\n",
        "from sklearn.ensemble import RandomForestClassifier\n",
        "from sklearn.naive_bayes import GaussianNB\n",
        "\n",
        "\n",
        "dict_classifiers = {\n",
        "    \"Logistic Regression\": LogisticRegression(),\n",
        "    \"Nearest Neighbors\": KNeighborsClassifier(),\n",
        "    \"Linear SVM\": SVC(),\n",
        "    \"Gradient Boosting Classifier\": GradientBoostingClassifier(),\n",
        "    \"Decision Tree\": tree.DecisionTreeClassifier(),\n",
        "    \"Random Forest\": RandomForestClassifier(n_estimators=20),\n",
        "    \"Neural Net\": MLPClassifier(alpha=1),\n",
        "    \"Naive Bayes\": GaussianNB()\n",
        "}"
      ],
      "execution_count": null,
      "outputs": []
    },
    {
      "cell_type": "code",
      "metadata": {
        "id": "VhRVU-Cippzx",
        "colab_type": "code",
        "colab": {}
      },
      "source": [
        "# Use 5-fold Cross-validation.\n",
        "from sklearn.model_selection import cross_val_score\n",
        "\n",
        "# Logistic Regression\n",
        "log_reg = LogisticRegression()\n",
        "log_scores = cross_val_score(log_reg, X_train, y_train, cv=5)\n",
        "log_reg_mean = log_scores.mean()\n",
        "\n",
        "# SVC\n",
        "svc_clf = SVC()\n",
        "svc_scores = cross_val_score(svc_clf, X_train, y_train, cv=5)\n",
        "svc_mean = svc_scores.mean()\n",
        "\n",
        "# KNearestNeighbors\n",
        "knn_clf = KNeighborsClassifier()\n",
        "knn_scores = cross_val_score(knn_clf, X_train, y_train, cv=5)\n",
        "knn_mean = knn_scores.mean()\n",
        "\n",
        "# Decision Tree\n",
        "tree_clf = tree.DecisionTreeClassifier()\n",
        "tree_scores = cross_val_score(tree_clf, X_train, y_train, cv=5)\n",
        "tree_mean = tree_scores.mean()\n",
        "\n",
        "# Gradient Boosting Classifier\n",
        "grad_clf = GradientBoostingClassifier()\n",
        "grad_scores = cross_val_score(grad_clf, X_train, y_train, cv=5)\n",
        "grad_mean = grad_scores.mean()\n",
        "\n",
        "# Random Forest Classifier\n",
        "rand_clf = RandomForestClassifier(n_estimators=18)\n",
        "rand_scores = cross_val_score(rand_clf, X_train, y_train, cv=5)\n",
        "rand_mean = rand_scores.mean()\n",
        "\n",
        "# NeuralNet Classifier\n",
        "neural_clf = MLPClassifier(alpha=1)\n",
        "neural_scores = cross_val_score(neural_clf, X_train, y_train, cv=5)\n",
        "neural_mean = neural_scores.mean()\n",
        "\n",
        "# Naives Bayes\n",
        "nav_clf = GaussianNB()\n",
        "nav_scores = cross_val_score(nav_clf, X_train, y_train, cv=5)\n",
        "nav_mean = neural_scores.mean()\n",
        "\n",
        "# Create a Dataframe with the results.\n",
        "d = {'Classifiers': ['Logistic Reg.', 'SVC', 'KNN', 'Dec Tree', 'Grad B CLF', 'Rand FC', 'Neural Classifier', 'Naives Bayes'], \n",
        "    'Crossval Mean Scores': [log_reg_mean, svc_mean, knn_mean, tree_mean, grad_mean, rand_mean, neural_mean, nav_mean]}\n",
        "\n",
        "result_df = pd.DataFrame(data=d)"
      ],
      "execution_count": null,
      "outputs": []
    },
    {
      "cell_type": "code",
      "metadata": {
        "id": "fzpfcd45prS6",
        "colab_type": "code",
        "colab": {
          "base_uri": "https://localhost:8080/",
          "height": 288
        },
        "outputId": "c32aaa87-74b4-4ab6-9362-5f4922b47aad"
      },
      "source": [
        "# All our models performances\n",
        "result_df = result_df.sort_values(by=['Crossval Mean Scores'], ascending=False)\n",
        "result_df"
      ],
      "execution_count": 129,
      "outputs": [
        {
          "output_type": "execute_result",
          "data": {
            "text/html": [
              "<div>\n",
              "<style scoped>\n",
              "    .dataframe tbody tr th:only-of-type {\n",
              "        vertical-align: middle;\n",
              "    }\n",
              "\n",
              "    .dataframe tbody tr th {\n",
              "        vertical-align: top;\n",
              "    }\n",
              "\n",
              "    .dataframe thead th {\n",
              "        text-align: right;\n",
              "    }\n",
              "</style>\n",
              "<table border=\"1\" class=\"dataframe\">\n",
              "  <thead>\n",
              "    <tr style=\"text-align: right;\">\n",
              "      <th></th>\n",
              "      <th>Classifiers</th>\n",
              "      <th>Crossval Mean Scores</th>\n",
              "    </tr>\n",
              "  </thead>\n",
              "  <tbody>\n",
              "    <tr>\n",
              "      <th>4</th>\n",
              "      <td>Grad B CLF</td>\n",
              "      <td>0.939250</td>\n",
              "    </tr>\n",
              "    <tr>\n",
              "      <th>1</th>\n",
              "      <td>SVC</td>\n",
              "      <td>0.935844</td>\n",
              "    </tr>\n",
              "    <tr>\n",
              "      <th>5</th>\n",
              "      <td>Rand FC</td>\n",
              "      <td>0.935812</td>\n",
              "    </tr>\n",
              "    <tr>\n",
              "      <th>0</th>\n",
              "      <td>Logistic Reg.</td>\n",
              "      <td>0.935469</td>\n",
              "    </tr>\n",
              "    <tr>\n",
              "      <th>6</th>\n",
              "      <td>Neural Classifier</td>\n",
              "      <td>0.933875</td>\n",
              "    </tr>\n",
              "    <tr>\n",
              "      <th>7</th>\n",
              "      <td>Naives Bayes</td>\n",
              "      <td>0.933875</td>\n",
              "    </tr>\n",
              "    <tr>\n",
              "      <th>2</th>\n",
              "      <td>KNN</td>\n",
              "      <td>0.932281</td>\n",
              "    </tr>\n",
              "    <tr>\n",
              "      <th>3</th>\n",
              "      <td>Dec Tree</td>\n",
              "      <td>0.914687</td>\n",
              "    </tr>\n",
              "  </tbody>\n",
              "</table>\n",
              "</div>"
            ],
            "text/plain": [
              "         Classifiers  Crossval Mean Scores\n",
              "4         Grad B CLF              0.939250\n",
              "1                SVC              0.935844\n",
              "5            Rand FC              0.935812\n",
              "0      Logistic Reg.              0.935469\n",
              "6  Neural Classifier              0.933875\n",
              "7       Naives Bayes              0.933875\n",
              "2                KNN              0.932281\n",
              "3           Dec Tree              0.914687"
            ]
          },
          "metadata": {
            "tags": []
          },
          "execution_count": 129
        }
      ]
    },
    {
      "cell_type": "code",
      "metadata": {
        "id": "7KKGHnempzWl",
        "colab_type": "code",
        "colab": {
          "base_uri": "https://localhost:8080/",
          "height": 926
        },
        "outputId": "48959dc4-efb9-40d0-85b6-941e33c1ee64"
      },
      "source": [
        "# 5-Fold Cross validate our models with unseen data\n",
        "from sklearn.model_selection import cross_val_predict\n",
        "\n",
        "y_test_pred_1 = cross_val_predict(grad_clf, X_test, y_test, cv=5)\n",
        "y_test_pred_2 = cross_val_predict(log_reg, X_test, y_test, cv=5)\n",
        "y_test_pred_3 = cross_val_predict(svc_clf, X_test, y_test, cv=5)\n",
        "y_test_pred_4 = cross_val_predict(knn_clf, X_test, y_test, cv=5)\n",
        "y_test_pred_5 = cross_val_predict(tree_clf, X_test, y_test, cv=5)\n",
        "y_test_pred_6 = cross_val_predict(rand_clf, X_test, y_test, cv=5)\n",
        "y_test_pred_7 = cross_val_predict(neural_clf, X_test, y_test, cv=5)\n",
        "y_test_pred_8 = cross_val_predict(nav_clf, X_test, y_test, cv=5)\n"
      ],
      "execution_count": null,
      "outputs": [
        {
          "output_type": "stream",
          "text": [
            "/usr/local/lib/python3.6/dist-packages/sklearn/linear_model/_logistic.py:940: ConvergenceWarning:\n",
            "\n",
            "lbfgs failed to converge (status=1):\n",
            "STOP: TOTAL NO. of ITERATIONS REACHED LIMIT.\n",
            "\n",
            "Increase the number of iterations (max_iter) or scale the data as shown in:\n",
            "    https://scikit-learn.org/stable/modules/preprocessing.html\n",
            "Please also refer to the documentation for alternative solver options:\n",
            "    https://scikit-learn.org/stable/modules/linear_model.html#logistic-regression\n",
            "\n",
            "/usr/local/lib/python3.6/dist-packages/sklearn/linear_model/_logistic.py:940: ConvergenceWarning:\n",
            "\n",
            "lbfgs failed to converge (status=1):\n",
            "STOP: TOTAL NO. of ITERATIONS REACHED LIMIT.\n",
            "\n",
            "Increase the number of iterations (max_iter) or scale the data as shown in:\n",
            "    https://scikit-learn.org/stable/modules/preprocessing.html\n",
            "Please also refer to the documentation for alternative solver options:\n",
            "    https://scikit-learn.org/stable/modules/linear_model.html#logistic-regression\n",
            "\n",
            "/usr/local/lib/python3.6/dist-packages/sklearn/linear_model/_logistic.py:940: ConvergenceWarning:\n",
            "\n",
            "lbfgs failed to converge (status=1):\n",
            "STOP: TOTAL NO. of ITERATIONS REACHED LIMIT.\n",
            "\n",
            "Increase the number of iterations (max_iter) or scale the data as shown in:\n",
            "    https://scikit-learn.org/stable/modules/preprocessing.html\n",
            "Please also refer to the documentation for alternative solver options:\n",
            "    https://scikit-learn.org/stable/modules/linear_model.html#logistic-regression\n",
            "\n",
            "/usr/local/lib/python3.6/dist-packages/sklearn/linear_model/_logistic.py:940: ConvergenceWarning:\n",
            "\n",
            "lbfgs failed to converge (status=1):\n",
            "STOP: TOTAL NO. of ITERATIONS REACHED LIMIT.\n",
            "\n",
            "Increase the number of iterations (max_iter) or scale the data as shown in:\n",
            "    https://scikit-learn.org/stable/modules/preprocessing.html\n",
            "Please also refer to the documentation for alternative solver options:\n",
            "    https://scikit-learn.org/stable/modules/linear_model.html#logistic-regression\n",
            "\n",
            "/usr/local/lib/python3.6/dist-packages/sklearn/linear_model/_logistic.py:940: ConvergenceWarning:\n",
            "\n",
            "lbfgs failed to converge (status=1):\n",
            "STOP: TOTAL NO. of ITERATIONS REACHED LIMIT.\n",
            "\n",
            "Increase the number of iterations (max_iter) or scale the data as shown in:\n",
            "    https://scikit-learn.org/stable/modules/preprocessing.html\n",
            "Please also refer to the documentation for alternative solver options:\n",
            "    https://scikit-learn.org/stable/modules/linear_model.html#logistic-regression\n",
            "\n"
          ],
          "name": "stderr"
        }
      ]
    },
    {
      "cell_type": "code",
      "metadata": {
        "id": "0UGJhL3EqDeo",
        "colab_type": "code",
        "colab": {
          "base_uri": "https://localhost:8080/",
          "height": 714
        },
        "outputId": "87ea9757-d26a-4f09-c26b-ce63f9a423ab"
      },
      "source": [
        "# confusion matrix for gradient boosting classifier model\n",
        "from sklearn.metrics import confusion_matrix\n",
        "conf_matrix = confusion_matrix(y_test, y_test_pred_1)\n",
        "f, ax = plt.subplots(figsize=(12, 8))\n",
        "sns.heatmap(conf_matrix, annot=True, fmt=\"d\", linewidths=.5, ax=ax)\n",
        "plt.title(\"Confusion Matrix\", fontsize=20)\n",
        "plt.subplots_adjust(left=0.15, right=0.99, bottom=0.15, top=0.99)\n",
        "ax.set_yticks(np.arange(conf_matrix.shape[0]) + 0.5, minor=False)\n",
        "ax.set_xticklabels(\"\")\n",
        "ax.set_yticklabels(['Refused Term Deposits', 'Accepted Term Deposits'], fontsize=16, rotation=360)\n",
        "plt.show()"
      ],
      "execution_count": 130,
      "outputs": [
        {
          "output_type": "error",
          "ename": "NameError",
          "evalue": "ignored",
          "traceback": [
            "\u001b[0;31m---------------------------------------------------------------------------\u001b[0m",
            "\u001b[0;31mNameError\u001b[0m                                 Traceback (most recent call last)",
            "\u001b[0;32m<ipython-input-130-ed07a73e0bee>\u001b[0m in \u001b[0;36m<module>\u001b[0;34m()\u001b[0m\n\u001b[1;32m      3\u001b[0m \u001b[0mconf_matrix\u001b[0m \u001b[0;34m=\u001b[0m \u001b[0mconfusion_matrix\u001b[0m\u001b[0;34m(\u001b[0m\u001b[0my_test\u001b[0m\u001b[0;34m,\u001b[0m \u001b[0my_test_pred_1\u001b[0m\u001b[0;34m)\u001b[0m\u001b[0;34m\u001b[0m\u001b[0;34m\u001b[0m\u001b[0m\n\u001b[1;32m      4\u001b[0m \u001b[0mf\u001b[0m\u001b[0;34m,\u001b[0m \u001b[0max\u001b[0m \u001b[0;34m=\u001b[0m \u001b[0mplt\u001b[0m\u001b[0;34m.\u001b[0m\u001b[0msubplots\u001b[0m\u001b[0;34m(\u001b[0m\u001b[0mfigsize\u001b[0m\u001b[0;34m=\u001b[0m\u001b[0;34m(\u001b[0m\u001b[0;36m12\u001b[0m\u001b[0;34m,\u001b[0m \u001b[0;36m8\u001b[0m\u001b[0;34m)\u001b[0m\u001b[0;34m)\u001b[0m\u001b[0;34m\u001b[0m\u001b[0;34m\u001b[0m\u001b[0m\n\u001b[0;32m----> 5\u001b[0;31m \u001b[0msns\u001b[0m\u001b[0;34m.\u001b[0m\u001b[0mheatmap\u001b[0m\u001b[0;34m(\u001b[0m\u001b[0mconf_matrix\u001b[0m\u001b[0;34m,\u001b[0m \u001b[0mannot\u001b[0m\u001b[0;34m=\u001b[0m\u001b[0;32mTrue\u001b[0m\u001b[0;34m,\u001b[0m \u001b[0mfmt\u001b[0m\u001b[0;34m=\u001b[0m\u001b[0;34m\"d\"\u001b[0m\u001b[0;34m,\u001b[0m \u001b[0mlinewidths\u001b[0m\u001b[0;34m=\u001b[0m\u001b[0;36m.5\u001b[0m\u001b[0;34m,\u001b[0m \u001b[0max\u001b[0m\u001b[0;34m=\u001b[0m\u001b[0max\u001b[0m\u001b[0;34m)\u001b[0m\u001b[0;34m\u001b[0m\u001b[0;34m\u001b[0m\u001b[0m\n\u001b[0m\u001b[1;32m      6\u001b[0m \u001b[0mplt\u001b[0m\u001b[0;34m.\u001b[0m\u001b[0mtitle\u001b[0m\u001b[0;34m(\u001b[0m\u001b[0;34m\"Confusion Matrix\"\u001b[0m\u001b[0;34m,\u001b[0m \u001b[0mfontsize\u001b[0m\u001b[0;34m=\u001b[0m\u001b[0;36m20\u001b[0m\u001b[0;34m)\u001b[0m\u001b[0;34m\u001b[0m\u001b[0;34m\u001b[0m\u001b[0m\n\u001b[1;32m      7\u001b[0m \u001b[0mplt\u001b[0m\u001b[0;34m.\u001b[0m\u001b[0msubplots_adjust\u001b[0m\u001b[0;34m(\u001b[0m\u001b[0mleft\u001b[0m\u001b[0;34m=\u001b[0m\u001b[0;36m0.15\u001b[0m\u001b[0;34m,\u001b[0m \u001b[0mright\u001b[0m\u001b[0;34m=\u001b[0m\u001b[0;36m0.99\u001b[0m\u001b[0;34m,\u001b[0m \u001b[0mbottom\u001b[0m\u001b[0;34m=\u001b[0m\u001b[0;36m0.15\u001b[0m\u001b[0;34m,\u001b[0m \u001b[0mtop\u001b[0m\u001b[0;34m=\u001b[0m\u001b[0;36m0.99\u001b[0m\u001b[0;34m)\u001b[0m\u001b[0;34m\u001b[0m\u001b[0;34m\u001b[0m\u001b[0m\n",
            "\u001b[0;31mNameError\u001b[0m: name 'sns' is not defined"
          ]
        },
        {
          "output_type": "display_data",
          "data": {
            "image/png": "[encoded data removed]",
            "text/plain": [
              "<Figure size 864x576 with 1 Axes>"
            ]
          },
          "metadata": {
            "tags": [],
            "needs_background": "light"
          }
        }
      ]
    },
    {
      "cell_type": "code",
      "metadata": {
        "id": "rxZOFnZnqTUj",
        "colab_type": "code",
        "colab": {
          "base_uri": "https://localhost:8080/",
          "height": 745
        },
        "outputId": "df340cae-80c9-4e31-cff1-254de6035cd3"
      },
      "source": [
        "# Let's find the scores for precision,recall,f1 and accuracy.\n",
        "from sklearn.metrics import precision_score, recall_score, f1_score, accuracy_score\n",
        "\n",
        "print(\"Gradient Boosting Classifier -------------------------------------------------\")\n",
        "print('Accuracy Score: ', accuracy_score(y_test, y_test_pred_1))\n",
        "print('Precision Score: ', precision_score(y_test, y_test_pred_1))\n",
        "print('Recall Score: ', recall_score(y_test, y_test_pred_1))\n",
        "print('F1 Score: ', f1_score(y_test, y_test_pred_1))\n",
        "print(\"Logistic Regression -------------------------------------------------\")\n",
        "print('Accuracy Score: ', accuracy_score(y_test, y_test_pred_2))\n",
        "print('Precision Score: ', precision_score(y_test, y_test_pred_2))\n",
        "print('Recall Score: ', recall_score(y_test, y_test_pred_2))\n",
        "print('F1 Score: ', f1_score(y_test, y_test_pred_2))\n",
        "print(\"SVM -------------------------------------------------\")\n",
        "print('Accuracy Score: ', accuracy_score(y_test, y_test_pred_3))\n",
        "print('Precision Score: ', precision_score(y_test, y_test_pred_3))\n",
        "print('Recall Score: ', recall_score(y_test, y_test_pred_3))\n",
        "print('F1 Score: ', f1_score(y_test, y_test_pred_3))\n",
        "print(\"KNeighbors Classifier-------------------------------------------------\")\n",
        "print('Accuracy Score: ', accuracy_score(y_test, y_test_pred_4))\n",
        "print('Precision Score: ', precision_score(y_test, y_test_pred_4))\n",
        "print('Recall Score: ', recall_score(y_test, y_test_pred_4))\n",
        "print('F1 Score: ', f1_score(y_test, y_test_pred_4))\n",
        "print(\"Decision Trees Classifier-------------------------------------------------\")\n",
        "print('Accuracy Score: ', accuracy_score(y_test, y_test_pred_5))\n",
        "print('Precision Score: ', precision_score(y_test, y_test_pred_5))\n",
        "print('Recall Score: ', recall_score(y_test, y_test_pred_5))\n",
        "print('F1 Score: ', f1_score(y_test, y_test_pred_5))\n",
        "print(\"Random Forest Classifier-------------------------------------------------\")\n",
        "print('Accuracy Score: ', accuracy_score(y_test, y_test_pred_6))\n",
        "print('Precision Score: ', precision_score(y_test, y_test_pred_6))\n",
        "print('Recall Score: ', recall_score(y_test, y_test_pred_6))\n",
        "print('F1 Score: ', f1_score(y_test, y_test_pred_6))\n",
        "print(\"MLP Classifier-------------------------------------------------\")\n",
        "print('Accuracy Score: ', accuracy_score(y_test, y_test_pred_7))\n",
        "print('Precision Score: ', precision_score(y_test, y_test_pred_7))\n",
        "print('Recall Score: ', recall_score(y_test, y_test_pred_7))\n",
        "print('F1 Score: ', f1_score(y_test, y_test_pred_7))\n",
        "print(\"GaussianNB-------------------------------------------------\")\n",
        "print('Accuracy Score: ', accuracy_score(y_test, y_test_pred_8))\n",
        "print('Precision Score: ', precision_score(y_test, y_test_pred_8))\n",
        "print('Recall Score: ', recall_score(y_test, y_test_pred_8))\n",
        "print('F1 Score: ', f1_score(y_test, y_test_pred_8))"
      ],
      "execution_count": 131,
      "outputs": [
        {
          "output_type": "stream",
          "text": [
            "Gradient Boosting Classifier -------------------------------------------------\n",
            "Accuracy Score:  0.93275\n",
            "Precision Score:  0.5887573964497042\n",
            "Recall Score:  0.33277591973244147\n",
            "F1 Score:  0.4252136752136752\n",
            "Logistic Regression -------------------------------------------------\n",
            "Accuracy Score:  0.932\n",
            "Precision Score:  0.6007462686567164\n",
            "Recall Score:  0.2692307692307692\n",
            "F1 Score:  0.37182448036951504\n",
            "SVM -------------------------------------------------\n",
            "Accuracy Score:  0.93025\n",
            "Precision Score:  0.6123595505617978\n",
            "Recall Score:  0.18227424749163879\n",
            "F1 Score:  0.2809278350515464\n",
            "KNeighbors Classifier-------------------------------------------------\n",
            "Accuracy Score:  0.92925\n",
            "Precision Score:  0.5625\n",
            "Recall Score:  0.2408026755852843\n",
            "F1 Score:  0.33723653395784536\n",
            "Decision Trees Classifier-------------------------------------------------\n",
            "Accuracy Score:  0.907625\n",
            "Precision Score:  0.3886255924170616\n",
            "Recall Score:  0.411371237458194\n",
            "F1 Score:  0.3996750609260764\n",
            "Random Forest Classifier-------------------------------------------------\n",
            "Accuracy Score:  0.930375\n",
            "Precision Score:  0.5990338164251208\n",
            "Recall Score:  0.20735785953177258\n",
            "F1 Score:  0.3080745341614907\n",
            "MLP Classifier-------------------------------------------------\n",
            "Accuracy Score:  0.93\n",
            "Precision Score:  0.5620915032679739\n",
            "Recall Score:  0.28762541806020064\n",
            "F1 Score:  0.3805309734513274\n",
            "GaussianNB-------------------------------------------------\n",
            "Accuracy Score:  0.61375\n",
            "Precision Score:  0.14379645511720984\n",
            "Recall Score:  0.8411371237458194\n",
            "F1 Score:  0.24560546875\n"
          ],
          "name": "stdout"
        }
      ]
    },
    {
      "cell_type": "markdown",
      "metadata": {
        "id": "HMESNkM11MQP",
        "colab_type": "text"
      },
      "source": [
        "\n",
        "\n",
        "*  Accuracy scores and cross validation mean scores are high rate but recall and precision and f1-score is low rate. This is because data is imbalanced(no:37104,yes:2796) We need to take different approaches to balance data. Since Gradient Boosting Classifier and Decision Trees Classifier give highest accuracy and f1 scores, we chose this models and we will continue...\n"
      ]
    },
    {
      "cell_type": "code",
      "metadata": {
        "id": "JKg8x9QTrHya",
        "colab_type": "code",
        "colab": {}
      },
      "source": [
        "# install necessary packages\n",
        "!pip install imbalanced-learn\n",
        "!pip install combo"
      ],
      "execution_count": null,
      "outputs": []
    },
    {
      "cell_type": "code",
      "metadata": {
        "id": "ku_1Mw1a1YvG",
        "colab_type": "code",
        "colab": {}
      },
      "source": [
        "dep = term_deposits['y']\n",
        "X=term_deposits\n",
        "y=dep"
      ],
      "execution_count": 136,
      "outputs": []
    },
    {
      "cell_type": "markdown",
      "metadata": {
        "id": "Uh4-9rAgq8CM",
        "colab_type": "text"
      },
      "source": [
        "\n",
        "\n",
        "\n",
        "*First Approach*\n",
        "\n",
        "\n",
        "```\n",
        "We increase data that is labeled with yes(oversampling) and decrease data that is labeled with no(undersampling).\n",
        "```\n",
        "\n"
      ]
    },
    {
      "cell_type": "code",
      "metadata": {
        "id": "1HNseEY11ZDC",
        "colab_type": "code",
        "colab": {
          "base_uri": "https://localhost:8080/",
          "height": 108
        },
        "outputId": "98670252-cc4a-4320-b086-50b73c98d49e"
      },
      "source": [
        "import imblearn\n",
        "from imblearn.over_sampling import RandomOverSampler\n",
        "\n",
        "#oversampling\n",
        "oversample = RandomOverSampler(sampling_strategy='minority')\n",
        "oversample = RandomOverSampler(sampling_strategy=0.5)\n",
        "# fit and apply the transform\n",
        "X_over, y_over = oversample.fit_resample(X, y)\n",
        "from collections import Counter\n",
        "# summarize class distribution\n",
        "print(Counter(y_over))"
      ],
      "execution_count": 137,
      "outputs": [
        {
          "output_type": "stream",
          "text": [
            "Counter({'no': 37104, 'yes': 18552})\n"
          ],
          "name": "stdout"
        },
        {
          "output_type": "stream",
          "text": [
            "/usr/local/lib/python3.6/dist-packages/sklearn/utils/deprecation.py:87: FutureWarning:\n",
            "\n",
            "Function safe_indexing is deprecated; safe_indexing is deprecated in version 0.22 and will be removed in version 0.24.\n",
            "\n"
          ],
          "name": "stderr"
        }
      ]
    },
    {
      "cell_type": "code",
      "metadata": {
        "id": "p6_Tyyzx5Bie",
        "colab_type": "code",
        "colab": {
          "base_uri": "https://localhost:8080/",
          "height": 108
        },
        "outputId": "5eaa1a56-9f41-4c8d-be6e-f7abab6dcd33"
      },
      "source": [
        "#undersampling\n",
        "from imblearn.under_sampling import RandomUnderSampler\n",
        "under = RandomUnderSampler(sampling_strategy=0.7)\n",
        "# fit and apply the transform\n",
        "X_over, y_over= under.fit_resample(X_over, y_over)\n",
        "# summarize class distribution\n",
        "print(Counter(y_over))"
      ],
      "execution_count": 138,
      "outputs": [
        {
          "output_type": "stream",
          "text": [
            "Counter({'no': 26502, 'yes': 18552})\n"
          ],
          "name": "stdout"
        },
        {
          "output_type": "stream",
          "text": [
            "/usr/local/lib/python3.6/dist-packages/sklearn/utils/deprecation.py:87: FutureWarning:\n",
            "\n",
            "Function safe_indexing is deprecated; safe_indexing is deprecated in version 0.22 and will be removed in version 0.24.\n",
            "\n"
          ],
          "name": "stderr"
        }
      ]
    },
    {
      "cell_type": "code",
      "metadata": {
        "id": "Z7ca6TREvU2U",
        "colab_type": "code",
        "colab": {
          "base_uri": "https://localhost:8080/",
          "height": 145
        },
        "outputId": "adc3274e-77ca-4ea8-84fc-12adf93d1fd4"
      },
      "source": [
        "print(X_over)"
      ],
      "execution_count": 139,
      "outputs": [
        {
          "output_type": "stream",
          "text": [
            "[['no' 33 'admin' ... 'may' 565 1]\n",
            " ['no' 49 'management' ... 'jul' 47 5]\n",
            " ['no' 31 'management' ... 'nov' 74 1]\n",
            " ...\n",
            " ['yes' 54 'unemployed' ... 'apr' 241 1]\n",
            " ['yes' 37 'housemaid' ... 'may' 899 3]\n",
            " ['yes' 30 'admin' ... 'nov' 898 1]]\n"
          ],
          "name": "stdout"
        }
      ]
    },
    {
      "cell_type": "code",
      "metadata": {
        "id": "gQQOLCEANJ9E",
        "colab_type": "code",
        "colab": {}
      },
      "source": [
        " \n",
        "df = pd.DataFrame(X_over, columns=['y','age','job','marital','education','default','balance','housing','loan','contact','day','month','duration','campaign'])"
      ],
      "execution_count": 140,
      "outputs": []
    },
    {
      "cell_type": "code",
      "metadata": {
        "id": "zdW_7m4ZOMQ8",
        "colab_type": "code",
        "colab": {
          "base_uri": "https://localhost:8080/",
          "height": 198
        },
        "outputId": "e35d18a3-7bbe-4608-cd83-5db49db25d16"
      },
      "source": [
        "df.head()"
      ],
      "execution_count": 141,
      "outputs": [
        {
          "output_type": "execute_result",
          "data": {
            "text/html": [
              "<div>\n",
              "<style scoped>\n",
              "    .dataframe tbody tr th:only-of-type {\n",
              "        vertical-align: middle;\n",
              "    }\n",
              "\n",
              "    .dataframe tbody tr th {\n",
              "        vertical-align: top;\n",
              "    }\n",
              "\n",
              "    .dataframe thead th {\n",
              "        text-align: right;\n",
              "    }\n",
              "</style>\n",
              "<table border=\"1\" class=\"dataframe\">\n",
              "  <thead>\n",
              "    <tr style=\"text-align: right;\">\n",
              "      <th></th>\n",
              "      <th>y</th>\n",
              "      <th>age</th>\n",
              "      <th>job</th>\n",
              "      <th>marital</th>\n",
              "      <th>education</th>\n",
              "      <th>default</th>\n",
              "      <th>balance</th>\n",
              "      <th>housing</th>\n",
              "      <th>loan</th>\n",
              "      <th>contact</th>\n",
              "      <th>day</th>\n",
              "      <th>month</th>\n",
              "      <th>duration</th>\n",
              "      <th>campaign</th>\n",
              "    </tr>\n",
              "  </thead>\n",
              "  <tbody>\n",
              "    <tr>\n",
              "      <th>0</th>\n",
              "      <td>no</td>\n",
              "      <td>33</td>\n",
              "      <td>admin</td>\n",
              "      <td>single</td>\n",
              "      <td>secondary</td>\n",
              "      <td>no</td>\n",
              "      <td>1613</td>\n",
              "      <td>yes</td>\n",
              "      <td>no</td>\n",
              "      <td>unknown</td>\n",
              "      <td>14</td>\n",
              "      <td>may</td>\n",
              "      <td>565</td>\n",
              "      <td>1</td>\n",
              "    </tr>\n",
              "    <tr>\n",
              "      <th>1</th>\n",
              "      <td>no</td>\n",
              "      <td>49</td>\n",
              "      <td>management</td>\n",
              "      <td>married</td>\n",
              "      <td>secondary</td>\n",
              "      <td>no</td>\n",
              "      <td>1601</td>\n",
              "      <td>no</td>\n",
              "      <td>no</td>\n",
              "      <td>cellular</td>\n",
              "      <td>29</td>\n",
              "      <td>jul</td>\n",
              "      <td>47</td>\n",
              "      <td>5</td>\n",
              "    </tr>\n",
              "    <tr>\n",
              "      <th>2</th>\n",
              "      <td>no</td>\n",
              "      <td>31</td>\n",
              "      <td>management</td>\n",
              "      <td>single</td>\n",
              "      <td>tertiary</td>\n",
              "      <td>no</td>\n",
              "      <td>44128</td>\n",
              "      <td>no</td>\n",
              "      <td>no</td>\n",
              "      <td>cellular</td>\n",
              "      <td>21</td>\n",
              "      <td>nov</td>\n",
              "      <td>74</td>\n",
              "      <td>1</td>\n",
              "    </tr>\n",
              "    <tr>\n",
              "      <th>3</th>\n",
              "      <td>no</td>\n",
              "      <td>38</td>\n",
              "      <td>management</td>\n",
              "      <td>single</td>\n",
              "      <td>tertiary</td>\n",
              "      <td>no</td>\n",
              "      <td>427</td>\n",
              "      <td>yes</td>\n",
              "      <td>no</td>\n",
              "      <td>cellular</td>\n",
              "      <td>6</td>\n",
              "      <td>may</td>\n",
              "      <td>17</td>\n",
              "      <td>3</td>\n",
              "    </tr>\n",
              "    <tr>\n",
              "      <th>4</th>\n",
              "      <td>no</td>\n",
              "      <td>42</td>\n",
              "      <td>management</td>\n",
              "      <td>divorced</td>\n",
              "      <td>secondary</td>\n",
              "      <td>no</td>\n",
              "      <td>-272</td>\n",
              "      <td>no</td>\n",
              "      <td>no</td>\n",
              "      <td>cellular</td>\n",
              "      <td>8</td>\n",
              "      <td>jul</td>\n",
              "      <td>186</td>\n",
              "      <td>1</td>\n",
              "    </tr>\n",
              "  </tbody>\n",
              "</table>\n",
              "</div>"
            ],
            "text/plain": [
              "    y age         job   marital  ... day month duration campaign\n",
              "0  no  33       admin    single  ...  14   may      565        1\n",
              "1  no  49  management   married  ...  29   jul       47        5\n",
              "2  no  31  management    single  ...  21   nov       74        1\n",
              "3  no  38  management    single  ...   6   may       17        3\n",
              "4  no  42  management  divorced  ...   8   jul      186        1\n",
              "\n",
              "[5 rows x 14 columns]"
            ]
          },
          "metadata": {
            "tags": []
          },
          "execution_count": 141
        }
      ]
    },
    {
      "cell_type": "code",
      "metadata": {
        "id": "RV8IQ1OCgByc",
        "colab_type": "code",
        "colab": {}
      },
      "source": [
        "from sklearn.model_selection import StratifiedShuffleSplit\n",
        "# Here we split the data into training and test sets and implement a stratified shuffle split.\n",
        "stratified = StratifiedShuffleSplit(n_splits=1, test_size=0.2, random_state=42)\n",
        "\n",
        "for train_set, test_set in stratified.split(df, df[\"loan\"]):\n",
        "    stratified_train = df.loc[train_set]\n",
        "    stratified_test = df.loc[test_set]"
      ],
      "execution_count": 142,
      "outputs": []
    },
    {
      "cell_type": "code",
      "metadata": {
        "id": "0CoN4XhxgHUJ",
        "colab_type": "code",
        "colab": {
          "base_uri": "https://localhost:8080/",
          "height": 35
        },
        "outputId": "6b39cc58-af66-4fea-9b8e-7d12ab1c6616"
      },
      "source": [
        "# seperate train and test data\n",
        "train_data = stratified_train # Make a copy of the stratified training set.\n",
        "test_data = stratified_test # Make a copy of the stratified testing set.\n",
        "train_data.shape\n",
        "\n",
        "#train_data['y'].value_counts()"
      ],
      "execution_count": 143,
      "outputs": [
        {
          "output_type": "execute_result",
          "data": {
            "text/plain": [
              "(36043, 14)"
            ]
          },
          "metadata": {
            "tags": []
          },
          "execution_count": 143
        }
      ]
    },
    {
      "cell_type": "code",
      "metadata": {
        "id": "XB9aiL-itWEF",
        "colab_type": "code",
        "colab": {}
      },
      "source": [
        "from sklearn.pipeline import Pipeline\n",
        "from sklearn.preprocessing import StandardScaler\n",
        "\n",
        "# Making pipelines for transforming data\n",
        "numerical_pipeline = Pipeline([\n",
        "    (\"select_numeric\", DataFrameSelector([\"age\", \"balance\", \"day\", \"campaign\",\"duration\"])),\n",
        "    (\"std_scaler\", StandardScaler()),\n",
        "])\n",
        "\n",
        "categorical_pipeline = Pipeline([\n",
        "    (\"select_cat\", DataFrameSelector([\"job\", \"education\", \"marital\", \"default\", \"housing\", \"loan\", \"contact\", \"month\"\n",
        "                                     ])),\n",
        "    (\"cat_encoder\", CategoricalEncoder(encoding='onehot-dense'))\n",
        "])\n",
        "\n",
        "from sklearn.pipeline import FeatureUnion\n",
        "preprocess_pipeline = FeatureUnion(transformer_list=[\n",
        "        (\"numerical_pipeline\", numerical_pipeline),\n",
        "        (\"categorical_pipeline\", categorical_pipeline),\n",
        "    ])"
      ],
      "execution_count": 144,
      "outputs": []
    },
    {
      "cell_type": "code",
      "metadata": {
        "id": "stfskTocgZg_",
        "colab_type": "code",
        "colab": {
          "base_uri": "https://localhost:8080/",
          "height": 254
        },
        "outputId": "e91e8368-edfc-47aa-f37b-0919e8a27c0b"
      },
      "source": [
        "X_train = preprocess_pipeline.fit_transform(train_data)\n",
        "X_train\n",
        "X_test = preprocess_pipeline.fit_transform(test_data)\n",
        "X_test"
      ],
      "execution_count": 145,
      "outputs": [
        {
          "output_type": "execute_result",
          "data": {
            "text/plain": [
              "array([[-0.62005053, -0.31966965,  0.01143754, ...,  1.        ,\n",
              "         0.        ,  0.        ],\n",
              "       [-0.62005053, -0.42331   ,  0.72468109, ...,  0.        ,\n",
              "         0.        ,  0.        ],\n",
              "       [-0.81591659,  0.43786652,  0.36805932, ...,  0.        ,\n",
              "         1.        ,  0.        ],\n",
              "       ...,\n",
              "       [ 0.55514585, -0.67938358,  1.31905071, ...,  0.        ,\n",
              "         0.        ,  0.        ],\n",
              "       [-0.03245234, -0.76201093, -1.53392348, ...,  0.        ,\n",
              "         0.        ,  0.        ],\n",
              "       [-0.5221175 ,  1.04475021,  0.01143754, ...,  0.        ,\n",
              "         0.        ,  0.        ]])"
            ]
          },
          "metadata": {
            "tags": []
          },
          "execution_count": 145
        }
      ]
    },
    {
      "cell_type": "code",
      "metadata": {
        "id": "1bSDMBsbgZXe",
        "colab_type": "code",
        "colab": {
          "base_uri": "https://localhost:8080/",
          "height": 35
        },
        "outputId": "3b1909ca-ba16-40e9-bce3-5ffa5db33045"
      },
      "source": [
        "y_train = train_data['y']\n",
        "y_test = test_data['y']\n",
        "y_train.shape"
      ],
      "execution_count": 147,
      "outputs": [
        {
          "output_type": "execute_result",
          "data": {
            "text/plain": [
              "(36043,)"
            ]
          },
          "metadata": {
            "tags": []
          },
          "execution_count": 147
        }
      ]
    },
    {
      "cell_type": "code",
      "metadata": {
        "id": "k93JsW8AgzSf",
        "colab_type": "code",
        "colab": {}
      },
      "source": [
        "from sklearn.preprocessing import LabelEncoder\n",
        "encode = LabelEncoder()\n",
        "y_train = encode.fit_transform(y_train)\n",
        "y_test = encode.fit_transform(y_test)\n"
      ],
      "execution_count": 148,
      "outputs": []
    },
    {
      "cell_type": "code",
      "metadata": {
        "id": "woCdXSLQhT47",
        "colab_type": "code",
        "colab": {
          "base_uri": "https://localhost:8080/",
          "height": 54
        },
        "outputId": "b1c31d0d-d4c5-4123-c6a0-bef6647dc852"
      },
      "source": [
        "from sklearn.model_selection import cross_val_predict\n",
        "from sklearn.metrics import f1_score,precision_score,recall_score,accuracy_score\n",
        "from sklearn.model_selection import cross_val_score\n",
        "\n",
        "# Decision Tree\n",
        "tree_clf = tree.DecisionTreeClassifier()\n",
        "tree_scores = cross_val_score(tree_clf, X_train, y_train, cv=5)\n",
        "tree_mean = tree_scores.mean()\n",
        "print('5-Fold Cross Validation Avarage Score of Decision Tree: ',tree_mean)\n",
        "\n",
        "# Gradient Boosting Classifier\n",
        "grad_clf = GradientBoostingClassifier()\n",
        "grad_scores = cross_val_score(grad_clf, X_train, y_train, cv=5)\n",
        "grad_mean = grad_scores.mean()\n",
        "print('5-Fold Cross Validation Avarage Score of Gradient Boosting Classifier: ',grad_mean)"
      ],
      "execution_count": 150,
      "outputs": [
        {
          "output_type": "stream",
          "text": [
            "5-Fold Cross Validation Avarage Score of Decision Tree:  0.9561080773832314\n",
            "5-Fold Cross Validation Avarage Score of Gradient Boosting Classifier:  0.8793109650364593\n"
          ],
          "name": "stdout"
        }
      ]
    },
    {
      "cell_type": "code",
      "metadata": {
        "id": "Oqhyd_6lhTxU",
        "colab_type": "code",
        "colab": {
          "base_uri": "https://localhost:8080/",
          "height": 90
        },
        "outputId": "363d5c94-3971-46f9-91cc-b1bcc4b369a4"
      },
      "source": [
        "from sklearn.model_selection import cross_val_predict\n",
        "from sklearn.metrics import f1_score,precision_score,recall_score,accuracy_score\n",
        "y_test_pred_1 = cross_val_predict(grad_clf, X_test, y_test, cv=5)\n",
        "\n",
        "\n",
        "print('Precision Score: ', precision_score(y_test, y_test_pred_1))\n",
        "# The classifier only detects 60% of potential clients that will suscribe to a term deposit.\n",
        "print('Recall Score: ', recall_score(y_test, y_test_pred_1))\n",
        "print('F1-Score: ', f1_score(y_test, y_test_pred_1))\n",
        "print(\"Gradient Boost Classifier accuracy is %2.2f\" % accuracy_score(y_test, y_test_pred_1))"
      ],
      "execution_count": 152,
      "outputs": [
        {
          "output_type": "stream",
          "text": [
            "Precision Score:  0.8451292765735179\n",
            "Recall Score:  0.8807838867719108\n",
            "F1-Score:  0.8625882980141277\n",
            "Gradient Boost Classifier accuracy is 0.89\n"
          ],
          "name": "stdout"
        }
      ]
    },
    {
      "cell_type": "code",
      "metadata": {
        "id": "waYKD85-hTop",
        "colab_type": "code",
        "colab": {
          "base_uri": "https://localhost:8080/",
          "height": 90
        },
        "outputId": "393dad2b-0e38-4688-dc71-f6994a1cb95c"
      },
      "source": [
        "y_test_pred_2 = cross_val_predict(tree_clf, X_test, y_test, cv=5)\n",
        "\n",
        "\n",
        "print('Precision Score: ', precision_score(y_test, y_test_pred_2))\n",
        "# The classifier only detects 60% of potential clients that will suscribe to a term deposit.\n",
        "print('Recall Score: ', recall_score(y_test, y_test_pred_2))\n",
        "print('F1-Score: ', f1_score(y_test, y_test_pred_2))\n",
        "print(\"Decision Tree Classifier accuracy is %2.2f\" % accuracy_score(y_test, y_test_pred_2))\n"
      ],
      "execution_count": 153,
      "outputs": [
        {
          "output_type": "stream",
          "text": [
            "Precision Score:  0.837014470677837\n",
            "Recall Score:  0.8973870440936309\n",
            "F1-Score:  0.8661500065677131\n",
            "Decision Tree Classifier accuracy is 0.89\n"
          ],
          "name": "stdout"
        }
      ]
    },
    {
      "cell_type": "markdown",
      "metadata": {
        "id": "VcQVRLN8UsGr",
        "colab_type": "text"
      },
      "source": [
        "\n",
        "*Second Approach*\n",
        "\n",
        "\n",
        "```\n",
        "We will use ensemble learning by combining multiple classifying model. The combination of these models will increase the score.\n",
        "```"
      ]
    },
    {
      "cell_type": "code",
      "metadata": {
        "id": "XG4R6NMzH-Ak",
        "colab_type": "code",
        "colab": {}
      },
      "source": [
        "from combo.models.classifier_stacking import Stacking\n",
        "from combo.utils.data import evaluate_print\n",
        "# initialize a group of base classifiers - Ensemble Model\n",
        "classifiers = [tree.DecisionTreeClassifier(), LogisticRegression(),\n",
        "               KNeighborsClassifier(), RandomForestClassifier(),\n",
        "               GradientBoostingClassifier()]\n",
        "\n",
        "clf = Stacking(base_estimators=classifiers) # initialize a Stacking model\n",
        "clf.fit(X_train, y_train) # fit the model\n",
        "\n",
        "# predict on unseen data\n",
        "y_test_labels=cross_val_predict(clf, X_test, y_test, cv=5)"
      ],
      "execution_count": null,
      "outputs": []
    },
    {
      "cell_type": "code",
      "metadata": {
        "id": "-rxhV08EJW9F",
        "colab_type": "code",
        "colab": {
          "base_uri": "https://localhost:8080/",
          "height": 35
        },
        "outputId": "a89ab614-a185-4f08-f843-f8116060b82f"
      },
      "source": [
        "#Model Evaluation\n",
        "evaluate_print('Stacking | ', y_test, y_test_labels)"
      ],
      "execution_count": 165,
      "outputs": [
        {
          "output_type": "stream",
          "text": [
            "Stacking |  Accuracy:0.9142, ROC:0.9157, F1:0.8978\n"
          ],
          "name": "stdout"
        }
      ]
    },
    {
      "cell_type": "markdown",
      "metadata": {
        "id": "p81vXBwebpbr",
        "colab_type": "text"
      },
      "source": [
        "Final Results Report"
      ]
    },
    {
      "cell_type": "markdown",
      "metadata": {
        "id": "dk68JEBIONgd",
        "colab_type": "text"
      },
      "source": [
        "\n",
        "*Cross Validation Avarage Result*\n",
        "*  5-Fold Cross Validation Avarage Score of Decision Tree:0.95\n",
        "* 5-Fold Cross Validation Avarage Score of Gradient Boosting Classifier:0.87\n",
        "\n",
        "\n",
        "\n",
        "*Gradient Boost Classifier*\n",
        "*   Precision Score:  0.8451292765735179\n",
        "*  Recall Score:  0.8807838867719108\n",
        "* F1-Score:  0.8625882980141277\n",
        "* Gradient Boost Classifier accuracy is 0.89\n",
        "\n",
        "*Decision Tree*\n",
        "* Precision Score:  0.837014470677837\n",
        "*  Recall Score:  0.8973870440936309\n",
        "*  F1-Score:  0.8661500065677131\n",
        "* Decision Tree Classifier accuracy is 0.89\n",
        "\n",
        "\n",
        "*Combine of Multiple Classifier Models - Ensemble Model*\n",
        "\n",
        "* Accuracy: 0.9142\n",
        "* ROC: 0.9157\n",
        "* F1: 0.8978\n",
        "\n",
        "\n"
      ]
    },
    {
      "cell_type": "markdown",
      "metadata": {
        "id": "lCqJYoWHxiJb",
        "colab_type": "text"
      },
      "source": [
        "Which features affect the model more?\n"
      ]
    },
    {
      "cell_type": "code",
      "metadata": {
        "id": "gNfwVYy5xy1s",
        "colab_type": "code",
        "colab": {
          "base_uri": "https://localhost:8080/",
          "height": 217
        },
        "outputId": "34ead283-64d8-4e5f-f44e-316fb7871bf1"
      },
      "source": [
        "import pandas as pd\n",
        "import numpy as np\n",
        "from sklearn.preprocessing import LabelEncoder\n",
        "from sklearn.feature_selection import SelectKBest\n",
        "from sklearn.feature_selection import chi2\n",
        "data = pd.read_csv(\"/content/drive/My Drive/term-deposit-marketing-2020.csv\")\n",
        "X = data.iloc[:, :-1].values   #independent columns\n",
        "y = data.iloc[:, -1].values     #target column i.e price range\n",
        "labelencoder_ = LabelEncoder()\n",
        "for i in range(13):\n",
        "  X[:,i] = labelencoder_.fit_transform(X[:,i])\n",
        "y = labelencoder_.fit_transform(y)\n",
        "#apply SelectKBest class to extract top 10 best features\n",
        "bestfeatures = SelectKBest(score_func=chi2, k=10)\n",
        "fit = bestfeatures.fit(X,y)\n",
        "dfscores = pd.DataFrame(fit.scores_)\n",
        "dfcolumns = pd.DataFrame(data.columns)\n",
        "#concat two dataframes for better visualization \n",
        "featureScores = pd.concat([dfcolumns,dfscores],axis=1)\n",
        "featureScores.columns = ['Specs','Score']  #naming the dataframe columns\n",
        "print(featureScores.nlargest(10,'Score'))  #print 10 best features\n",
        "\n",
        "\n",
        "# most effective feature is duration "
      ],
      "execution_count": null,
      "outputs": [
        {
          "output_type": "stream",
          "text": [
            "        Specs         Score\n",
            "11   duration  2.045278e+06\n",
            "5     balance  1.066761e+05\n",
            "8     contact  3.921261e+02\n",
            "12   campaign  3.607691e+02\n",
            "10      month  1.308415e+02\n",
            "0         age  7.180656e+01\n",
            "6     housing  4.714734e+01\n",
            "7        loan  3.184029e+01\n",
            "1         job  3.022289e+01\n",
            "3   education  2.590045e+01\n"
          ],
          "name": "stdout"
        }
      ]
    },
    {
      "cell_type": "code",
      "metadata": {
        "id": "tgpdBnsGWh4I",
        "colab_type": "code",
        "colab": {}
      },
      "source": [
        "m = (df['y'] == 'yes')\n",
        "df1=df[m]\n",
        "n = (df['y'] == 'no')\n",
        "df2=df[n]"
      ],
      "execution_count": null,
      "outputs": []
    },
    {
      "cell_type": "code",
      "metadata": {
        "id": "NCKZHt3uXbwU",
        "colab_type": "code",
        "colab": {
          "base_uri": "https://localhost:8080/",
          "height": 198
        },
        "outputId": "46de8b99-fdaa-4636-a11f-e39b745f1cd8"
      },
      "source": [
        "df1.head()"
      ],
      "execution_count": null,
      "outputs": [
        {
          "output_type": "execute_result",
          "data": {
            "text/html": [
              "<div>\n",
              "<style scoped>\n",
              "    .dataframe tbody tr th:only-of-type {\n",
              "        vertical-align: middle;\n",
              "    }\n",
              "\n",
              "    .dataframe tbody tr th {\n",
              "        vertical-align: top;\n",
              "    }\n",
              "\n",
              "    .dataframe thead th {\n",
              "        text-align: right;\n",
              "    }\n",
              "</style>\n",
              "<table border=\"1\" class=\"dataframe\">\n",
              "  <thead>\n",
              "    <tr style=\"text-align: right;\">\n",
              "      <th></th>\n",
              "      <th>age</th>\n",
              "      <th>job</th>\n",
              "      <th>marital</th>\n",
              "      <th>education</th>\n",
              "      <th>default</th>\n",
              "      <th>balance</th>\n",
              "      <th>housing</th>\n",
              "      <th>loan</th>\n",
              "      <th>contact</th>\n",
              "      <th>day</th>\n",
              "      <th>month</th>\n",
              "      <th>duration</th>\n",
              "      <th>campaign</th>\n",
              "      <th>y</th>\n",
              "    </tr>\n",
              "  </thead>\n",
              "  <tbody>\n",
              "    <tr>\n",
              "      <th>83</th>\n",
              "      <td>59</td>\n",
              "      <td>admin</td>\n",
              "      <td>married</td>\n",
              "      <td>secondary</td>\n",
              "      <td>no</td>\n",
              "      <td>2343</td>\n",
              "      <td>yes</td>\n",
              "      <td>no</td>\n",
              "      <td>unknown</td>\n",
              "      <td>5</td>\n",
              "      <td>may</td>\n",
              "      <td>1042</td>\n",
              "      <td>1</td>\n",
              "      <td>yes</td>\n",
              "    </tr>\n",
              "    <tr>\n",
              "      <th>86</th>\n",
              "      <td>56</td>\n",
              "      <td>admin</td>\n",
              "      <td>married</td>\n",
              "      <td>secondary</td>\n",
              "      <td>no</td>\n",
              "      <td>45</td>\n",
              "      <td>no</td>\n",
              "      <td>no</td>\n",
              "      <td>unknown</td>\n",
              "      <td>5</td>\n",
              "      <td>may</td>\n",
              "      <td>1467</td>\n",
              "      <td>1</td>\n",
              "      <td>yes</td>\n",
              "    </tr>\n",
              "    <tr>\n",
              "      <th>87</th>\n",
              "      <td>41</td>\n",
              "      <td>technician</td>\n",
              "      <td>married</td>\n",
              "      <td>secondary</td>\n",
              "      <td>no</td>\n",
              "      <td>1270</td>\n",
              "      <td>yes</td>\n",
              "      <td>no</td>\n",
              "      <td>unknown</td>\n",
              "      <td>5</td>\n",
              "      <td>may</td>\n",
              "      <td>1389</td>\n",
              "      <td>1</td>\n",
              "      <td>yes</td>\n",
              "    </tr>\n",
              "    <tr>\n",
              "      <th>129</th>\n",
              "      <td>55</td>\n",
              "      <td>services</td>\n",
              "      <td>married</td>\n",
              "      <td>secondary</td>\n",
              "      <td>no</td>\n",
              "      <td>2476</td>\n",
              "      <td>yes</td>\n",
              "      <td>no</td>\n",
              "      <td>unknown</td>\n",
              "      <td>5</td>\n",
              "      <td>may</td>\n",
              "      <td>579</td>\n",
              "      <td>1</td>\n",
              "      <td>yes</td>\n",
              "    </tr>\n",
              "    <tr>\n",
              "      <th>168</th>\n",
              "      <td>54</td>\n",
              "      <td>admin</td>\n",
              "      <td>married</td>\n",
              "      <td>tertiary</td>\n",
              "      <td>no</td>\n",
              "      <td>184</td>\n",
              "      <td>no</td>\n",
              "      <td>no</td>\n",
              "      <td>unknown</td>\n",
              "      <td>5</td>\n",
              "      <td>may</td>\n",
              "      <td>673</td>\n",
              "      <td>2</td>\n",
              "      <td>yes</td>\n",
              "    </tr>\n",
              "  </tbody>\n",
              "</table>\n",
              "</div>"
            ],
            "text/plain": [
              "     age         job  marital  education  ... month  duration campaign    y\n",
              "83    59       admin  married  secondary  ...   may      1042        1  yes\n",
              "86    56       admin  married  secondary  ...   may      1467        1  yes\n",
              "87    41  technician  married  secondary  ...   may      1389        1  yes\n",
              "129   55    services  married  secondary  ...   may       579        1  yes\n",
              "168   54       admin  married   tertiary  ...   may       673        2  yes\n",
              "\n",
              "[5 rows x 14 columns]"
            ]
          },
          "metadata": {
            "tags": []
          },
          "execution_count": 80
        }
      ]
    },
    {
      "cell_type": "code",
      "metadata": {
        "id": "f7-4VsvuYkDg",
        "colab_type": "code",
        "colab": {
          "base_uri": "https://localhost:8080/",
          "height": 72
        },
        "outputId": "b623b15b-c4f6-4fb6-a631-afc591d3acd6"
      },
      "source": [
        "# Month\n",
        "print(df1['month'].value_counts()[:3].index.tolist())\n",
        "print(df2['month'].value_counts()[:3].index.tolist())\n",
        "df3 = df2[df2['campaign']==1]\n",
        "print(df3['month'].value_counts()[:3].index.tolist())"
      ],
      "execution_count": null,
      "outputs": [
        {
          "output_type": "stream",
          "text": [
            "['may', 'apr', 'jul']\n",
            "['may', 'jul', 'aug']\n",
            "['may', 'jul', 'nov']\n"
          ],
          "name": "stdout"
        }
      ]
    },
    {
      "cell_type": "markdown",
      "metadata": {
        "id": "c57_rAfHZoZn",
        "colab_type": "text"
      },
      "source": [
        "Pazarlama Etkinliği Ayları (month): Pazarlama faaliyetlerinin en yüksek olduğu ayın Mayıs ayı olduğunu gördük. Ancak, bu potansiyel müşterilerin vadeli mevduat tekliflerini(term deposit) reddetme eğiliminde olduğu aydı (En yüksek \"no\" oranı mayıs ayında). Bir sonraki pazarlama kampanyası için, kurumun pazarlama kampanyasını Mart, Eylül, Ekim ve Kasım aylarında odaklanması akıllıca olacaktır. (Kasım ayı, kampanya sayısının en düşük olduğu ay olduğu için dikkate alınmalıdır, kasım ayı kampanya sayısı arttırılabilir.)"
      ]
    },
    {
      "cell_type": "code",
      "metadata": {
        "id": "wvGkme5fDfxC",
        "colab_type": "code",
        "colab": {
          "base_uri": "https://localhost:8080/",
          "height": 35
        },
        "outputId": "f9a2fa40-5ad1-489a-f2e1-fc556e60757c"
      },
      "source": [
        "# Season\n",
        "print(df1['month'].value_counts()[:12].index.tolist())"
      ],
      "execution_count": null,
      "outputs": [
        {
          "output_type": "stream",
          "text": [
            "['may', 'apr', 'jul', 'jun', 'aug', 'feb', 'nov', 'mar', 'oct', 'jan', 'dec']\n"
          ],
          "name": "stdout"
        }
      ]
    },
    {
      "cell_type": "markdown",
      "metadata": {
        "id": "K2jfpxakEZDs",
        "colab_type": "text"
      },
      "source": [
        "Mevsimsellik: Potansiyel müşteriler, ilkbahar ve yaz mevsimlerinde vadeli mevduata(term deposit) abone olmayı seçti. Bir sonraki pazarlama kampanyası, faaliyetlerini bu sezonlar boyunca odaklamalıdır."
      ]
    },
    {
      "cell_type": "code",
      "metadata": {
        "id": "MBMGlazeFe4E",
        "colab_type": "code",
        "colab": {
          "base_uri": "https://localhost:8080/",
          "height": 35
        },
        "outputId": "bff80a80-2a03-4514-f239-ed5fdb5b8410"
      },
      "source": [
        "# Age\n",
        "print(df1['age'].value_counts()[-30:].index.tolist())"
      ],
      "execution_count": null,
      "outputs": [
        {
          "output_type": "stream",
          "text": [
            "[56, 24, 23, 61, 65, 22, 62, 21, 73, 71, 20, 74, 66, 63, 69, 64, 68, 70, 72, 76, 78, 85, 67, 75, 77, 83, 19, 79, 90, 95]\n"
          ],
          "name": "stdout"
        }
      ]
    },
    {
      "cell_type": "markdown",
      "metadata": {
        "id": "0i6mQT5gLcde",
        "colab_type": "text"
      },
      "source": [
        "Yaş Kategorisi: Kurumun bir sonraki pazarlama kampanyası, 20'li yaşlarının başında ve 60'lı yaşların  üzerindeki potansiyel müşterileri hedeflemelidir. Bir sonraki kampanya için kurumun bu iki kategoriyi ele alması ve dolayısıyla daha fazla vadeli mevduat alma olasılığını artırması harika olacaktır."
      ]
    },
    {
      "cell_type": "code",
      "metadata": {
        "id": "FzAISD8tMHAx",
        "colab_type": "code",
        "colab": {
          "base_uri": "https://localhost:8080/",
          "height": 35
        },
        "outputId": "c06697f0-02d7-49df-cb01-0de97d658927"
      },
      "source": [
        "# Job\n",
        "print(df1['job'].value_counts()[-3:].index.tolist())\n"
      ],
      "execution_count": null,
      "outputs": [
        {
          "output_type": "stream",
          "text": [
            "['student', 'housemaid', 'unknown']\n"
          ],
          "name": "stdout"
        }
      ]
    },
    {
      "cell_type": "markdown",
      "metadata": {
        "id": "x0aX97v9N8aE",
        "colab_type": "text"
      },
      "source": [
        "Meslek: Öğrenciler ve ev hanımları 'yes' diyen grup içinde azınlıklar. Bu yüzden bu azınlığı hedef alan ve alım olasılığını arttıran yeni kampanyalar yapılabilir."
      ]
    },
    {
      "cell_type": "code",
      "metadata": {
        "id": "zOrSJw60Odk7",
        "colab_type": "code",
        "colab": {
          "base_uri": "https://localhost:8080/",
          "height": 54
        },
        "outputId": "dcb32f7d-40cd-4bf2-8e85-c61edb28974c"
      },
      "source": [
        "# Loan and Balance Relationship\n",
        "n = (df['loan'] == 'yes')\n",
        "df5=df[n]\n",
        "print(df5['balance'].value_counts()[:10].index.tolist())\n",
        "print(df5['balance'].value_counts()[-10:].index.tolist())\n"
      ],
      "execution_count": null,
      "outputs": [
        {
          "output_type": "stream",
          "text": [
            "[0, 2, 1, 3, 4, 14, 5, 7, 80, 57]\n",
            "[-318, 2371, 4420, 2387, -342, 4440, -350, -362, 2415, 4120]\n"
          ],
          "name": "stdout"
        }
      ]
    },
    {
      "cell_type": "markdown",
      "metadata": {
        "id": "N7umjrpoQTU1",
        "colab_type": "text"
      },
      "source": [
        "Konut Kredileri ve Bakiyeleri: Düşük bakiye ve bakiyesiz kategorisindeki potansiyel müşterilerin, ortalama ve yüksek bakiye kategorisindeki kişilere göre konut kredisi alma olasılığı daha yüksek. Bir sonraki pazarlama kampanyası, vadeli mevduata yatkınlık olasılığını artırmak için ortalama ve yüksek bakiyeli kişilere odaklanmalıdır."
      ]
    },
    {
      "cell_type": "code",
      "metadata": {
        "id": "1hdI84YZSwR2",
        "colab_type": "code",
        "colab": {
          "base_uri": "https://localhost:8080/",
          "height": 35
        },
        "outputId": "2bd263ea-d18d-4e9b-d3c5-4eaa99058444"
      },
      "source": [
        "# Duration\n",
        "print(df1['duration'].mean())"
      ],
      "execution_count": null,
      "outputs": [
        {
          "output_type": "stream",
          "text": [
            "682.9585635359116\n"
          ],
          "name": "stdout"
        }
      ]
    },
    {
      "cell_type": "markdown",
      "metadata": {
        "id": "kJ3-Ge5ZUErU",
        "colab_type": "text"
      },
      "source": [
        "Daha Uzun Süreli Hedef Bireyler (682'nin üzerinde): Süresi ortalamanın üzerinde olan hedef grubu hedefleyin, bu hedef grubun vadeli mevduat hesabı(term deposit) açma olasılığı yüksektir. Bu, bir sonraki pazarlama kampanyasının başarı oranının oldukça başarılı olmasını sağlayacaktır."
      ]
    },
    {
      "cell_type": "markdown",
      "metadata": {
        "id": "IvZ96smtTM7z",
        "colab_type": "text"
      },
      "source": [
        "Görüşmeler Sırasında Anket Oluşturun: Görüşmenin süresi, potansiyel bir müşterinin vadeli mevduat açıp açmayacağı ile en olumlu ilişkili olan özellik olduğundan, görüşmeler sırasında potansiyel müşteriler için ilginç bir anket sağlayarak görüşme süresi artabilir. Elbette, bu bize potansiyel müşterinin vadeli depozitoya tabi olacağı konusunda garanti vermez. Bununla birlikte, potansiyel müşterinin katılım düzeyini artıracak bir strateji uygulayarak hiçbir şey kaybetmiyoruz, bu da vadeli mevduata bağlı kalma olasılığını artıracak ve bu nedenle kurumun uygulayacağı bir sonraki pazarlama kampanyası için etkinlik artışı olacaktır.\n",
        "\n",
        "\n",
        "\n",
        "Tüm bu stratejileri birleştirerek ve bir sonraki kampanyanın hitap etmesi gereken pazar kitlesini basitleştirerek, bankanın bir sonraki pazarlama kampanyasının mevcut kampanyadan daha etkili olması muhtemeldir."
      ]
    }
  ]
}